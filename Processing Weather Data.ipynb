{
 "cells": [
  {
   "attachments": {},
   "cell_type": "markdown",
   "id": "a5a85329",
   "metadata": {},
   "source": [
    "<h3>Weather Data Anomalies</h3>"
   ]
  },
  {
   "cell_type": "code",
   "execution_count": 2,
   "id": "a35d1b0c",
   "metadata": {},
   "outputs": [],
   "source": [
    "#Import dependencies\n",
    "import pandas as pd\n",
    "from pathlib import Path\n",
    "import sqlite3\n",
    "import sqlalchemy"
   ]
  },
  {
   "cell_type": "code",
   "execution_count": 3,
   "id": "ade3e240",
   "metadata": {},
   "outputs": [],
   "source": [
    "#deliverable 2 requirement to read in the db and then connect via SQL Alchemy.\n",
    "db_engine = sqlalchemy.create_engine('sqlite:///data/Analysis.db')"
   ]
  },
  {
   "cell_type": "code",
   "execution_count": 5,
   "id": "9747d8cf",
   "metadata": {},
   "outputs": [],
   "source": [
    "data = pd.read_sql('SELECT * FROM data', db_engine)"
   ]
  },
  {
   "cell_type": "code",
   "execution_count": 7,
   "id": "e3a509b3",
   "metadata": {},
   "outputs": [],
   "source": [
    "#Creation of the dataframe for analysis. \n",
    "df = pd.DataFrame(data)"
   ]
  }
 ],
 "metadata": {
  "kernelspec": {
   "display_name": "PythonData",
   "language": "python",
   "name": "python3"
  },
  "language_info": {
   "codemirror_mode": {
    "name": "ipython",
    "version": 3
   },
   "file_extension": ".py",
   "mimetype": "text/x-python",
   "name": "python",
   "nbconvert_exporter": "python",
   "pygments_lexer": "ipython3",
   "version": "3.10.8"
  }
 },
 "nbformat": 4,
 "nbformat_minor": 5
}
