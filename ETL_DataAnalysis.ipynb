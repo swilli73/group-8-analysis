{
 "cells": [
  {
   "attachments": {},
   "cell_type": "markdown",
   "id": "02056794",
   "metadata": {},
   "source": [
    "<h3>ETL#1</h3>\n",
    "This is the initial notebook for the ETL task. The original 3m+ record count csv is going to be read, explored, and transformed. It won't be the final dataframe but it will be a good initial step and provide the csv files to load into the SQLite db in the ETL#2 notebook."
   ]
  },
  {
   "cell_type": "code",
   "execution_count": 124,
   "id": "a35d1b0c",
   "metadata": {},
   "outputs": [],
   "source": [
    "#Imports\n",
    "import pandas as pd\n",
    "import datetime as datetime\n",
    "import geopandas as gpd\n",
    "import matplotlib.pyplot as plt\n",
    "from shapely.geometry import Point, Polygon\n",
    "import pyproj"
   ]
  },
  {
   "cell_type": "code",
   "execution_count": 125,
   "id": "ce82eaea",
   "metadata": {},
   "outputs": [],
   "source": [
    "#pull in the original doc from https://data.world/carlvlewis/u-s-weather-outliers-1964\n",
    "#The original file has over 3 million rows, I trimmed it down in order to abide by the git size limits so please make sure you use the original instead of replacing it with the Git version. \n",
    "file_path = \"data/weather-anomalies-1964-2013.csv\"\n",
    "file_df = pd.read_csv(file_path)"
   ]
  },
  {
   "attachments": {},
   "cell_type": "markdown",
   "id": "6e4e467b",
   "metadata": {},
   "source": [
    "<h3>Separating our data</h3>"
   ]
  },
  {
   "cell_type": "code",
   "execution_count": 126,
   "id": "13ab237b",
   "metadata": {},
   "outputs": [],
   "source": [
    "stations = file_df[['id', 'station_name', 'longitude', 'latitude']]\n",
    "stations = stations.drop_duplicates('id')"
   ]
  },
  {
   "cell_type": "code",
   "execution_count": 127,
   "id": "e9840c9e",
   "metadata": {},
   "outputs": [],
   "source": [
    "weather = file_df[['serialid', 'id', 'date_str','degrees_from_mean','max_temp','min_temp','type']]"
   ]
  },
  {
   "cell_type": "code",
   "execution_count": 128,
   "id": "c167d10c",
   "metadata": {},
   "outputs": [
    {
     "name": "stderr",
     "output_type": "stream",
     "text": [
      "C:\\Users\\ecreg\\AppData\\Local\\Temp\\ipykernel_10320\\77618501.py:2: SettingWithCopyWarning: \n",
      "A value is trying to be set on a copy of a slice from a DataFrame.\n",
      "Try using .loc[row_indexer,col_indexer] = value instead\n",
      "\n",
      "See the caveats in the documentation: https://pandas.pydata.org/pandas-docs/stable/user_guide/indexing.html#returning-a-view-versus-a-copy\n",
      "  weather['date_str'] = pd.to_datetime(weather['date_str'])\n"
     ]
    }
   ],
   "source": [
    "#convert string to date in order to filter by year.\n",
    "weather['date_str'] = pd.to_datetime(weather['date_str'])"
   ]
  },
  {
   "cell_type": "code",
   "execution_count": 129,
   "id": "0ab45aac",
   "metadata": {},
   "outputs": [
    {
     "name": "stderr",
     "output_type": "stream",
     "text": [
      "C:\\Users\\ecreg\\AppData\\Local\\Temp\\ipykernel_10320\\2751927833.py:2: SettingWithCopyWarning: \n",
      "A value is trying to be set on a copy of a slice from a DataFrame.\n",
      "Try using .loc[row_indexer,col_indexer] = value instead\n",
      "\n",
      "See the caveats in the documentation: https://pandas.pydata.org/pandas-docs/stable/user_guide/indexing.html#returning-a-view-versus-a-copy\n",
      "  weather['year'] = weather['date_str'].dt.year\n"
     ]
    }
   ],
   "source": [
    "#Create the year column in order to easily filter out years and potential groupby data.\n",
    "weather['year'] = weather['date_str'].dt.year"
   ]
  },
  {
   "cell_type": "code",
   "execution_count": 130,
   "id": "2fdbaada",
   "metadata": {},
   "outputs": [],
   "source": [
    "#Export of the weather anomaly records from the trimmed original (due to size limits)\n",
    "weather.to_csv('data/weather.csv', index=False)"
   ]
  },
  {
   "cell_type": "code",
   "execution_count": 131,
   "id": "961c0729",
   "metadata": {},
   "outputs": [
    {
     "data": {
      "text/html": [
       "<div>\n",
       "<style scoped>\n",
       "    .dataframe tbody tr th:only-of-type {\n",
       "        vertical-align: middle;\n",
       "    }\n",
       "\n",
       "    .dataframe tbody tr th {\n",
       "        vertical-align: top;\n",
       "    }\n",
       "\n",
       "    .dataframe thead th {\n",
       "        text-align: right;\n",
       "    }\n",
       "</style>\n",
       "<table border=\"1\" class=\"dataframe\">\n",
       "  <thead>\n",
       "    <tr style=\"text-align: right;\">\n",
       "      <th></th>\n",
       "      <th></th>\n",
       "      <th>serialid</th>\n",
       "      <th>date_str</th>\n",
       "      <th>degrees_from_mean</th>\n",
       "      <th>max_temp</th>\n",
       "      <th>min_temp</th>\n",
       "      <th>type</th>\n",
       "    </tr>\n",
       "    <tr>\n",
       "      <th>id</th>\n",
       "      <th>year</th>\n",
       "      <th></th>\n",
       "      <th></th>\n",
       "      <th></th>\n",
       "      <th></th>\n",
       "      <th></th>\n",
       "      <th></th>\n",
       "    </tr>\n",
       "  </thead>\n",
       "  <tbody>\n",
       "    <tr>\n",
       "      <th>USC00513099</th>\n",
       "      <th>1989</th>\n",
       "      <td>233</td>\n",
       "      <td>233</td>\n",
       "      <td>233</td>\n",
       "      <td>233</td>\n",
       "      <td>233</td>\n",
       "      <td>233</td>\n",
       "    </tr>\n",
       "    <tr>\n",
       "      <th>USW00022536</th>\n",
       "      <th>1981</th>\n",
       "      <td>167</td>\n",
       "      <td>167</td>\n",
       "      <td>167</td>\n",
       "      <td>167</td>\n",
       "      <td>167</td>\n",
       "      <td>167</td>\n",
       "    </tr>\n",
       "    <tr>\n",
       "      <th>RQC00666073</th>\n",
       "      <th>2012</th>\n",
       "      <td>163</td>\n",
       "      <td>163</td>\n",
       "      <td>163</td>\n",
       "      <td>163</td>\n",
       "      <td>163</td>\n",
       "      <td>163</td>\n",
       "    </tr>\n",
       "    <tr>\n",
       "      <th>RQC00660158</th>\n",
       "      <th>1967</th>\n",
       "      <td>139</td>\n",
       "      <td>139</td>\n",
       "      <td>139</td>\n",
       "      <td>139</td>\n",
       "      <td>139</td>\n",
       "      <td>139</td>\n",
       "    </tr>\n",
       "    <tr>\n",
       "      <th>VQW00011624</th>\n",
       "      <th>1972</th>\n",
       "      <td>131</td>\n",
       "      <td>131</td>\n",
       "      <td>131</td>\n",
       "      <td>131</td>\n",
       "      <td>131</td>\n",
       "      <td>131</td>\n",
       "    </tr>\n",
       "    <tr>\n",
       "      <th>...</th>\n",
       "      <th>...</th>\n",
       "      <td>...</td>\n",
       "      <td>...</td>\n",
       "      <td>...</td>\n",
       "      <td>...</td>\n",
       "      <td>...</td>\n",
       "      <td>...</td>\n",
       "    </tr>\n",
       "    <tr>\n",
       "      <th>USC00308248</th>\n",
       "      <th>2001</th>\n",
       "      <td>1</td>\n",
       "      <td>1</td>\n",
       "      <td>1</td>\n",
       "      <td>1</td>\n",
       "      <td>1</td>\n",
       "      <td>1</td>\n",
       "    </tr>\n",
       "    <tr>\n",
       "      <th>USW00026514</th>\n",
       "      <th>1991</th>\n",
       "      <td>1</td>\n",
       "      <td>1</td>\n",
       "      <td>1</td>\n",
       "      <td>1</td>\n",
       "      <td>1</td>\n",
       "      <td>1</td>\n",
       "    </tr>\n",
       "    <tr>\n",
       "      <th>USC00101956</th>\n",
       "      <th>1995</th>\n",
       "      <td>1</td>\n",
       "      <td>1</td>\n",
       "      <td>1</td>\n",
       "      <td>1</td>\n",
       "      <td>1</td>\n",
       "      <td>1</td>\n",
       "    </tr>\n",
       "    <tr>\n",
       "      <th>USC00483170</th>\n",
       "      <th>2012</th>\n",
       "      <td>1</td>\n",
       "      <td>1</td>\n",
       "      <td>1</td>\n",
       "      <td>1</td>\n",
       "      <td>1</td>\n",
       "      <td>1</td>\n",
       "    </tr>\n",
       "    <tr>\n",
       "      <th>USC00337559</th>\n",
       "      <th>2013</th>\n",
       "      <td>1</td>\n",
       "      <td>1</td>\n",
       "      <td>1</td>\n",
       "      <td>1</td>\n",
       "      <td>1</td>\n",
       "      <td>1</td>\n",
       "    </tr>\n",
       "  </tbody>\n",
       "</table>\n",
       "<p>131228 rows × 6 columns</p>\n",
       "</div>"
      ],
      "text/plain": [
       "                  serialid  date_str  degrees_from_mean  max_temp  min_temp   \n",
       "id          year                                                              \n",
       "USC00513099 1989       233       233                233       233       233  \\\n",
       "USW00022536 1981       167       167                167       167       167   \n",
       "RQC00666073 2012       163       163                163       163       163   \n",
       "RQC00660158 1967       139       139                139       139       139   \n",
       "VQW00011624 1972       131       131                131       131       131   \n",
       "...                    ...       ...                ...       ...       ...   \n",
       "USC00308248 2001         1         1                  1         1         1   \n",
       "USW00026514 1991         1         1                  1         1         1   \n",
       "USC00101956 1995         1         1                  1         1         1   \n",
       "USC00483170 2012         1         1                  1         1         1   \n",
       "USC00337559 2013         1         1                  1         1         1   \n",
       "\n",
       "                  type  \n",
       "id          year        \n",
       "USC00513099 1989   233  \n",
       "USW00022536 1981   167  \n",
       "RQC00666073 2012   163  \n",
       "RQC00660158 1967   139  \n",
       "VQW00011624 1972   131  \n",
       "...                ...  \n",
       "USC00308248 2001     1  \n",
       "USW00026514 1991     1  \n",
       "USC00101956 1995     1  \n",
       "USC00483170 2012     1  \n",
       "USC00337559 2013     1  \n",
       "\n",
       "[131228 rows x 6 columns]"
      ]
     },
     "execution_count": 131,
     "metadata": {},
     "output_type": "execute_result"
    }
   ],
   "source": [
    "#Checking the count of datapoints for each station over the original dataset, there are some issues here. \n",
    "weather.groupby(['id','year']).count().sort_values('serialid', ascending=False)"
   ]
  },
  {
   "attachments": {},
   "cell_type": "markdown",
   "id": "2bfbef8e",
   "metadata": {},
   "source": [
    "<h3>Data Exploration</h3>\n",
    "Let's confirm the hunch that the NOAA data is entirely in the US or if it includes it's territories. Then transform the data using geopandas."
   ]
  },
  {
   "cell_type": "code",
   "execution_count": 132,
   "id": "cabb4876",
   "metadata": {},
   "outputs": [],
   "source": [
    "# df_geo = gpd.GeoDataFrame(stations, geometry = gpd.points_from_xy(stations.longitude, stations.latitude))\n",
    "Projection = pyproj.CRS.from_user_input(\"EPSG:4269\")\n",
    "df_points = gpd.GeoDataFrame(stations, geometry = gpd.points_from_xy(stations.longitude, stations.latitude, crs=Projection))"
   ]
  },
  {
   "cell_type": "code",
   "execution_count": 133,
   "id": "1ab10b70",
   "metadata": {},
   "outputs": [
    {
     "data": {
      "text/plain": [
       "<Axes: >"
      ]
     },
     "execution_count": 133,
     "metadata": {},
     "output_type": "execute_result"
    },
    {
     "data": {
      "image/png": "[encoded data removed]",
      "text/plain": [
       "<Figure size 640x480 with 1 Axes>"
      ]
     },
     "metadata": {},
     "output_type": "display_data"
    }
   ],
   "source": [
    "#Confirmation that locations are in US or US territories.\n",
    "df_points.plot()"
   ]
  },
  {
   "cell_type": "code",
   "execution_count": 134,
   "id": "4548d968",
   "metadata": {},
   "outputs": [],
   "source": [
    "#Importing a shapefile provided by NWS of all states and territories for analysis. https://www.weather.gov/gis/USStates\n",
    "# I also had to limit the original USA file,hence the \"cut\". This is due to size limits on Git. \n",
    "USA = gpd.read_file('data/USAcut.shp')\n",
    "#Trimming Down the USA shapefile to just NC.\n",
    "USA[USA['STATE']=='NC'].to_file('data/NC.shp')\n",
    "NC = gpd.read_file('data/NC.shp')"
   ]
  },
  {
   "cell_type": "code",
   "execution_count": 135,
   "id": "ee8b7e95",
   "metadata": {},
   "outputs": [
    {
     "data": {
      "text/plain": [
       "<Geographic 2D CRS: EPSG:4269>\n",
       "Name: NAD83\n",
       "Axis Info [ellipsoidal]:\n",
       "- Lat[north]: Geodetic latitude (degree)\n",
       "- Lon[east]: Geodetic longitude (degree)\n",
       "Area of Use:\n",
       "- name: North America - onshore and offshore: Canada - Alberta; British Columbia; Manitoba; New Brunswick; Newfoundland and Labrador; Northwest Territories; Nova Scotia; Nunavut; Ontario; Prince Edward Island; Quebec; Saskatchewan; Yukon. Puerto Rico. United States (USA) - Alabama; Alaska; Arizona; Arkansas; California; Colorado; Connecticut; Delaware; Florida; Georgia; Hawaii; Idaho; Illinois; Indiana; Iowa; Kansas; Kentucky; Louisiana; Maine; Maryland; Massachusetts; Michigan; Minnesota; Mississippi; Missouri; Montana; Nebraska; Nevada; New Hampshire; New Jersey; New Mexico; New York; North Carolina; North Dakota; Ohio; Oklahoma; Oregon; Pennsylvania; Rhode Island; South Carolina; South Dakota; Tennessee; Texas; Utah; Vermont; Virginia; Washington; West Virginia; Wisconsin; Wyoming. US Virgin Islands. British Virgin Islands.\n",
       "- bounds: (167.65, 14.92, -40.73, 86.45)\n",
       "Datum: North American Datum 1983\n",
       "- Ellipsoid: GRS 1980\n",
       "- Prime Meridian: Greenwich"
      ]
     },
     "execution_count": 135,
     "metadata": {},
     "output_type": "execute_result"
    }
   ],
   "source": [
    "#Coordinate check of shapefile\n",
    "NC.crs"
   ]
  },
  {
   "cell_type": "code",
   "execution_count": 136,
   "id": "6a27df94",
   "metadata": {},
   "outputs": [
    {
     "data": {
      "text/plain": [
       "<Axes: >"
      ]
     },
     "execution_count": 136,
     "metadata": {},
     "output_type": "execute_result"
    },
    {
     "data": {
      "image/png": "[encoded data removed]",
      "text/plain": [
       "<Figure size 800x800 with 1 Axes>"
      ]
     },
     "metadata": {},
     "output_type": "display_data"
    }
   ],
   "source": [
    "#Plot check of shapefile\n",
    "NC.plot(figsize=(8,8), color = \"green\")"
   ]
  },
  {
   "cell_type": "code",
   "execution_count": 137,
   "id": "09f7748e",
   "metadata": {},
   "outputs": [
    {
     "data": {
      "text/plain": [
       "<Axes: >"
      ]
     },
     "execution_count": 137,
     "metadata": {},
     "output_type": "execute_result"
    },
    {
     "data": {
      "image/png": "[encoded data removed]",
      "text/plain": [
       "<Figure size 2000x2000 with 1 Axes>"
      ]
     },
     "metadata": {},
     "output_type": "display_data"
    }
   ],
   "source": [
    "#Overlay of the stations and NC shp\n",
    "fig, ax = plt.subplots(figsize=(20,20))\n",
    "NC.plot(ax=ax, color='lightgrey')\n",
    "df_points.plot(ax=ax, color='red', markersize = 1 )"
   ]
  },
  {
   "cell_type": "code",
   "execution_count": 138,
   "id": "365cf825",
   "metadata": {},
   "outputs": [],
   "source": [
    "#Spatial join of the station data with the NWS shapefile to pull in states for each station.\n",
    "df_join = gpd.sjoin(df_points, NC, how='inner', predicate='within')"
   ]
  },
  {
   "cell_type": "code",
   "execution_count": 139,
   "id": "b756513c",
   "metadata": {},
   "outputs": [
    {
     "data": {
      "text/html": [
       "<div>\n",
       "<style scoped>\n",
       "    .dataframe tbody tr th:only-of-type {\n",
       "        vertical-align: middle;\n",
       "    }\n",
       "\n",
       "    .dataframe tbody tr th {\n",
       "        vertical-align: top;\n",
       "    }\n",
       "\n",
       "    .dataframe thead th {\n",
       "        text-align: right;\n",
       "    }\n",
       "</style>\n",
       "<table border=\"1\" class=\"dataframe\">\n",
       "  <thead>\n",
       "    <tr style=\"text-align: right;\">\n",
       "      <th></th>\n",
       "      <th>id</th>\n",
       "      <th>station_name</th>\n",
       "      <th>longitude</th>\n",
       "      <th>latitude</th>\n",
       "      <th>geometry</th>\n",
       "      <th>index_right</th>\n",
       "      <th>STATE</th>\n",
       "      <th>NAME</th>\n",
       "      <th>FIPS</th>\n",
       "      <th>LON</th>\n",
       "      <th>LAT</th>\n",
       "    </tr>\n",
       "  </thead>\n",
       "  <tbody>\n",
       "    <tr>\n",
       "      <th>324</th>\n",
       "      <td>USC00319357</td>\n",
       "      <td>WHITEVILLE 7 NW</td>\n",
       "      <td>-78.7914</td>\n",
       "      <td>34.4094</td>\n",
       "      <td>POINT (-78.79140 34.40940)</td>\n",
       "      <td>0</td>\n",
       "      <td>NC</td>\n",
       "      <td>North Carolina</td>\n",
       "      <td>37</td>\n",
       "      <td>-79.37865</td>\n",
       "      <td>35.54369</td>\n",
       "    </tr>\n",
       "    <tr>\n",
       "      <th>334</th>\n",
       "      <td>USC00316853</td>\n",
       "      <td>PLYMOUTH 5 E</td>\n",
       "      <td>-76.6592</td>\n",
       "      <td>35.8722</td>\n",
       "      <td>POINT (-76.65920 35.87220)</td>\n",
       "      <td>0</td>\n",
       "      <td>NC</td>\n",
       "      <td>North Carolina</td>\n",
       "      <td>37</td>\n",
       "      <td>-79.37865</td>\n",
       "      <td>35.54369</td>\n",
       "    </tr>\n",
       "    <tr>\n",
       "      <th>335</th>\n",
       "      <td>USW00093729</td>\n",
       "      <td>CAPE HATTERAS AP</td>\n",
       "      <td>-75.6219</td>\n",
       "      <td>35.2325</td>\n",
       "      <td>POINT (-75.62190 35.23250)</td>\n",
       "      <td>0</td>\n",
       "      <td>NC</td>\n",
       "      <td>North Carolina</td>\n",
       "      <td>37</td>\n",
       "      <td>-79.37865</td>\n",
       "      <td>35.54369</td>\n",
       "    </tr>\n",
       "    <tr>\n",
       "      <th>337</th>\n",
       "      <td>USC00318500</td>\n",
       "      <td>TARBORO 1 S</td>\n",
       "      <td>-77.5386</td>\n",
       "      <td>35.8847</td>\n",
       "      <td>POINT (-77.53860 35.88470)</td>\n",
       "      <td>0</td>\n",
       "      <td>NC</td>\n",
       "      <td>North Carolina</td>\n",
       "      <td>37</td>\n",
       "      <td>-79.37865</td>\n",
       "      <td>35.54369</td>\n",
       "    </tr>\n",
       "    <tr>\n",
       "      <th>384</th>\n",
       "      <td>USW00013754</td>\n",
       "      <td>CHERRY POINT MCAS</td>\n",
       "      <td>-76.8833</td>\n",
       "      <td>34.9000</td>\n",
       "      <td>POINT (-76.88330 34.90000)</td>\n",
       "      <td>0</td>\n",
       "      <td>NC</td>\n",
       "      <td>North Carolina</td>\n",
       "      <td>37</td>\n",
       "      <td>-79.37865</td>\n",
       "      <td>35.54369</td>\n",
       "    </tr>\n",
       "    <tr>\n",
       "      <th>...</th>\n",
       "      <td>...</td>\n",
       "      <td>...</td>\n",
       "      <td>...</td>\n",
       "      <td>...</td>\n",
       "      <td>...</td>\n",
       "      <td>...</td>\n",
       "      <td>...</td>\n",
       "      <td>...</td>\n",
       "      <td>...</td>\n",
       "      <td>...</td>\n",
       "      <td>...</td>\n",
       "    </tr>\n",
       "    <tr>\n",
       "      <th>7493</th>\n",
       "      <td>USC00314860</td>\n",
       "      <td>LAURINBURG</td>\n",
       "      <td>-79.4664</td>\n",
       "      <td>34.7508</td>\n",
       "      <td>POINT (-79.46640 34.75080)</td>\n",
       "      <td>0</td>\n",
       "      <td>NC</td>\n",
       "      <td>North Carolina</td>\n",
       "      <td>37</td>\n",
       "      <td>-79.37865</td>\n",
       "      <td>35.54369</td>\n",
       "    </tr>\n",
       "    <tr>\n",
       "      <th>13057</th>\n",
       "      <td>USC00314055</td>\n",
       "      <td>HIGHLANDS</td>\n",
       "      <td>-83.1983</td>\n",
       "      <td>35.0567</td>\n",
       "      <td>POINT (-83.19830 35.05670)</td>\n",
       "      <td>0</td>\n",
       "      <td>NC</td>\n",
       "      <td>North Carolina</td>\n",
       "      <td>37</td>\n",
       "      <td>-79.37865</td>\n",
       "      <td>35.54369</td>\n",
       "    </tr>\n",
       "    <tr>\n",
       "      <th>47285</th>\n",
       "      <td>USC00312837</td>\n",
       "      <td>ENKA</td>\n",
       "      <td>-82.6531</td>\n",
       "      <td>35.5406</td>\n",
       "      <td>POINT (-82.65310 35.54060)</td>\n",
       "      <td>0</td>\n",
       "      <td>NC</td>\n",
       "      <td>North Carolina</td>\n",
       "      <td>37</td>\n",
       "      <td>-79.37865</td>\n",
       "      <td>35.54369</td>\n",
       "    </tr>\n",
       "    <tr>\n",
       "      <th>67515</th>\n",
       "      <td>USC00316349</td>\n",
       "      <td>OCRACOKE</td>\n",
       "      <td>-75.9872</td>\n",
       "      <td>35.1075</td>\n",
       "      <td>POINT (-75.98720 35.10750)</td>\n",
       "      <td>0</td>\n",
       "      <td>NC</td>\n",
       "      <td>North Carolina</td>\n",
       "      <td>37</td>\n",
       "      <td>-79.37865</td>\n",
       "      <td>35.54369</td>\n",
       "    </tr>\n",
       "    <tr>\n",
       "      <th>74592</th>\n",
       "      <td>USW00093807</td>\n",
       "      <td>WINSTON SALEM RYNLDS AP</td>\n",
       "      <td>-80.2222</td>\n",
       "      <td>36.1336</td>\n",
       "      <td>POINT (-80.22220 36.13360)</td>\n",
       "      <td>0</td>\n",
       "      <td>NC</td>\n",
       "      <td>North Carolina</td>\n",
       "      <td>37</td>\n",
       "      <td>-79.37865</td>\n",
       "      <td>35.54369</td>\n",
       "    </tr>\n",
       "  </tbody>\n",
       "</table>\n",
       "<p>76 rows × 11 columns</p>\n",
       "</div>"
      ],
      "text/plain": [
       "                id             station_name  longitude  latitude   \n",
       "324    USC00319357          WHITEVILLE 7 NW   -78.7914   34.4094  \\\n",
       "334    USC00316853             PLYMOUTH 5 E   -76.6592   35.8722   \n",
       "335    USW00093729         CAPE HATTERAS AP   -75.6219   35.2325   \n",
       "337    USC00318500              TARBORO 1 S   -77.5386   35.8847   \n",
       "384    USW00013754        CHERRY POINT MCAS   -76.8833   34.9000   \n",
       "...            ...                      ...        ...       ...   \n",
       "7493   USC00314860               LAURINBURG   -79.4664   34.7508   \n",
       "13057  USC00314055                HIGHLANDS   -83.1983   35.0567   \n",
       "47285  USC00312837                     ENKA   -82.6531   35.5406   \n",
       "67515  USC00316349                 OCRACOKE   -75.9872   35.1075   \n",
       "74592  USW00093807  WINSTON SALEM RYNLDS AP   -80.2222   36.1336   \n",
       "\n",
       "                         geometry  index_right STATE            NAME FIPS   \n",
       "324    POINT (-78.79140 34.40940)            0    NC  North Carolina   37  \\\n",
       "334    POINT (-76.65920 35.87220)            0    NC  North Carolina   37   \n",
       "335    POINT (-75.62190 35.23250)            0    NC  North Carolina   37   \n",
       "337    POINT (-77.53860 35.88470)            0    NC  North Carolina   37   \n",
       "384    POINT (-76.88330 34.90000)            0    NC  North Carolina   37   \n",
       "...                           ...          ...   ...             ...  ...   \n",
       "7493   POINT (-79.46640 34.75080)            0    NC  North Carolina   37   \n",
       "13057  POINT (-83.19830 35.05670)            0    NC  North Carolina   37   \n",
       "47285  POINT (-82.65310 35.54060)            0    NC  North Carolina   37   \n",
       "67515  POINT (-75.98720 35.10750)            0    NC  North Carolina   37   \n",
       "74592  POINT (-80.22220 36.13360)            0    NC  North Carolina   37   \n",
       "\n",
       "            LON       LAT  \n",
       "324   -79.37865  35.54369  \n",
       "334   -79.37865  35.54369  \n",
       "335   -79.37865  35.54369  \n",
       "337   -79.37865  35.54369  \n",
       "384   -79.37865  35.54369  \n",
       "...         ...       ...  \n",
       "7493  -79.37865  35.54369  \n",
       "13057 -79.37865  35.54369  \n",
       "47285 -79.37865  35.54369  \n",
       "67515 -79.37865  35.54369  \n",
       "74592 -79.37865  35.54369  \n",
       "\n",
       "[76 rows x 11 columns]"
      ]
     },
     "execution_count": 139,
     "metadata": {},
     "output_type": "execute_result"
    }
   ],
   "source": [
    "df_join"
   ]
  },
  {
   "cell_type": "code",
   "execution_count": 140,
   "id": "82572452",
   "metadata": {},
   "outputs": [
    {
     "data": {
      "text/plain": [
       "<Axes: >"
      ]
     },
     "execution_count": 140,
     "metadata": {},
     "output_type": "execute_result"
    },
    {
     "data": {
      "image/png": "[encoded data removed]",
      "text/plain": [
       "<Figure size 2000x2000 with 1 Axes>"
      ]
     },
     "metadata": {},
     "output_type": "display_data"
    }
   ],
   "source": [
    "#Overlay of the NC stations and NC shp\n",
    "fig, ax = plt.subplots(figsize=(20,20))\n",
    "NC.plot(ax=ax, color='lightgrey')\n",
    "df_join.plot(ax=ax, color='red', markersize = 3 )"
   ]
  },
  {
   "cell_type": "code",
   "execution_count": 141,
   "id": "1472560d",
   "metadata": {},
   "outputs": [
    {
     "data": {
      "text/html": [
       "<div>\n",
       "<style scoped>\n",
       "    .dataframe tbody tr th:only-of-type {\n",
       "        vertical-align: middle;\n",
       "    }\n",
       "\n",
       "    .dataframe tbody tr th {\n",
       "        vertical-align: top;\n",
       "    }\n",
       "\n",
       "    .dataframe thead th {\n",
       "        text-align: right;\n",
       "    }\n",
       "</style>\n",
       "<table border=\"1\" class=\"dataframe\">\n",
       "  <thead>\n",
       "    <tr style=\"text-align: right;\">\n",
       "      <th></th>\n",
       "      <th>id</th>\n",
       "      <th>station_name</th>\n",
       "      <th>longitude</th>\n",
       "      <th>latitude</th>\n",
       "      <th>geometry</th>\n",
       "      <th>index_right</th>\n",
       "      <th>STATE</th>\n",
       "      <th>NAME</th>\n",
       "      <th>FIPS</th>\n",
       "    </tr>\n",
       "  </thead>\n",
       "  <tbody>\n",
       "    <tr>\n",
       "      <th>324</th>\n",
       "      <td>USC00319357</td>\n",
       "      <td>WHITEVILLE 7 NW</td>\n",
       "      <td>-78.7914</td>\n",
       "      <td>34.4094</td>\n",
       "      <td>POINT (-78.79140 34.40940)</td>\n",
       "      <td>0</td>\n",
       "      <td>NC</td>\n",
       "      <td>North Carolina</td>\n",
       "      <td>37</td>\n",
       "    </tr>\n",
       "    <tr>\n",
       "      <th>334</th>\n",
       "      <td>USC00316853</td>\n",
       "      <td>PLYMOUTH 5 E</td>\n",
       "      <td>-76.6592</td>\n",
       "      <td>35.8722</td>\n",
       "      <td>POINT (-76.65920 35.87220)</td>\n",
       "      <td>0</td>\n",
       "      <td>NC</td>\n",
       "      <td>North Carolina</td>\n",
       "      <td>37</td>\n",
       "    </tr>\n",
       "    <tr>\n",
       "      <th>335</th>\n",
       "      <td>USW00093729</td>\n",
       "      <td>CAPE HATTERAS AP</td>\n",
       "      <td>-75.6219</td>\n",
       "      <td>35.2325</td>\n",
       "      <td>POINT (-75.62190 35.23250)</td>\n",
       "      <td>0</td>\n",
       "      <td>NC</td>\n",
       "      <td>North Carolina</td>\n",
       "      <td>37</td>\n",
       "    </tr>\n",
       "    <tr>\n",
       "      <th>337</th>\n",
       "      <td>USC00318500</td>\n",
       "      <td>TARBORO 1 S</td>\n",
       "      <td>-77.5386</td>\n",
       "      <td>35.8847</td>\n",
       "      <td>POINT (-77.53860 35.88470)</td>\n",
       "      <td>0</td>\n",
       "      <td>NC</td>\n",
       "      <td>North Carolina</td>\n",
       "      <td>37</td>\n",
       "    </tr>\n",
       "    <tr>\n",
       "      <th>384</th>\n",
       "      <td>USW00013754</td>\n",
       "      <td>CHERRY POINT MCAS</td>\n",
       "      <td>-76.8833</td>\n",
       "      <td>34.9000</td>\n",
       "      <td>POINT (-76.88330 34.90000)</td>\n",
       "      <td>0</td>\n",
       "      <td>NC</td>\n",
       "      <td>North Carolina</td>\n",
       "      <td>37</td>\n",
       "    </tr>\n",
       "    <tr>\n",
       "      <th>...</th>\n",
       "      <td>...</td>\n",
       "      <td>...</td>\n",
       "      <td>...</td>\n",
       "      <td>...</td>\n",
       "      <td>...</td>\n",
       "      <td>...</td>\n",
       "      <td>...</td>\n",
       "      <td>...</td>\n",
       "      <td>...</td>\n",
       "    </tr>\n",
       "    <tr>\n",
       "      <th>7493</th>\n",
       "      <td>USC00314860</td>\n",
       "      <td>LAURINBURG</td>\n",
       "      <td>-79.4664</td>\n",
       "      <td>34.7508</td>\n",
       "      <td>POINT (-79.46640 34.75080)</td>\n",
       "      <td>0</td>\n",
       "      <td>NC</td>\n",
       "      <td>North Carolina</td>\n",
       "      <td>37</td>\n",
       "    </tr>\n",
       "    <tr>\n",
       "      <th>13057</th>\n",
       "      <td>USC00314055</td>\n",
       "      <td>HIGHLANDS</td>\n",
       "      <td>-83.1983</td>\n",
       "      <td>35.0567</td>\n",
       "      <td>POINT (-83.19830 35.05670)</td>\n",
       "      <td>0</td>\n",
       "      <td>NC</td>\n",
       "      <td>North Carolina</td>\n",
       "      <td>37</td>\n",
       "    </tr>\n",
       "    <tr>\n",
       "      <th>47285</th>\n",
       "      <td>USC00312837</td>\n",
       "      <td>ENKA</td>\n",
       "      <td>-82.6531</td>\n",
       "      <td>35.5406</td>\n",
       "      <td>POINT (-82.65310 35.54060)</td>\n",
       "      <td>0</td>\n",
       "      <td>NC</td>\n",
       "      <td>North Carolina</td>\n",
       "      <td>37</td>\n",
       "    </tr>\n",
       "    <tr>\n",
       "      <th>67515</th>\n",
       "      <td>USC00316349</td>\n",
       "      <td>OCRACOKE</td>\n",
       "      <td>-75.9872</td>\n",
       "      <td>35.1075</td>\n",
       "      <td>POINT (-75.98720 35.10750)</td>\n",
       "      <td>0</td>\n",
       "      <td>NC</td>\n",
       "      <td>North Carolina</td>\n",
       "      <td>37</td>\n",
       "    </tr>\n",
       "    <tr>\n",
       "      <th>74592</th>\n",
       "      <td>USW00093807</td>\n",
       "      <td>WINSTON SALEM RYNLDS AP</td>\n",
       "      <td>-80.2222</td>\n",
       "      <td>36.1336</td>\n",
       "      <td>POINT (-80.22220 36.13360)</td>\n",
       "      <td>0</td>\n",
       "      <td>NC</td>\n",
       "      <td>North Carolina</td>\n",
       "      <td>37</td>\n",
       "    </tr>\n",
       "  </tbody>\n",
       "</table>\n",
       "<p>76 rows × 9 columns</p>\n",
       "</div>"
      ],
      "text/plain": [
       "                id             station_name  longitude  latitude   \n",
       "324    USC00319357          WHITEVILLE 7 NW   -78.7914   34.4094  \\\n",
       "334    USC00316853             PLYMOUTH 5 E   -76.6592   35.8722   \n",
       "335    USW00093729         CAPE HATTERAS AP   -75.6219   35.2325   \n",
       "337    USC00318500              TARBORO 1 S   -77.5386   35.8847   \n",
       "384    USW00013754        CHERRY POINT MCAS   -76.8833   34.9000   \n",
       "...            ...                      ...        ...       ...   \n",
       "7493   USC00314860               LAURINBURG   -79.4664   34.7508   \n",
       "13057  USC00314055                HIGHLANDS   -83.1983   35.0567   \n",
       "47285  USC00312837                     ENKA   -82.6531   35.5406   \n",
       "67515  USC00316349                 OCRACOKE   -75.9872   35.1075   \n",
       "74592  USW00093807  WINSTON SALEM RYNLDS AP   -80.2222   36.1336   \n",
       "\n",
       "                         geometry  index_right STATE            NAME FIPS  \n",
       "324    POINT (-78.79140 34.40940)            0    NC  North Carolina   37  \n",
       "334    POINT (-76.65920 35.87220)            0    NC  North Carolina   37  \n",
       "335    POINT (-75.62190 35.23250)            0    NC  North Carolina   37  \n",
       "337    POINT (-77.53860 35.88470)            0    NC  North Carolina   37  \n",
       "384    POINT (-76.88330 34.90000)            0    NC  North Carolina   37  \n",
       "...                           ...          ...   ...             ...  ...  \n",
       "7493   POINT (-79.46640 34.75080)            0    NC  North Carolina   37  \n",
       "13057  POINT (-83.19830 35.05670)            0    NC  North Carolina   37  \n",
       "47285  POINT (-82.65310 35.54060)            0    NC  North Carolina   37  \n",
       "67515  POINT (-75.98720 35.10750)            0    NC  North Carolina   37  \n",
       "74592  POINT (-80.22220 36.13360)            0    NC  North Carolina   37  \n",
       "\n",
       "[76 rows x 9 columns]"
      ]
     },
     "execution_count": 141,
     "metadata": {},
     "output_type": "execute_result"
    }
   ],
   "source": [
    "#Lets keep all columns except the eroded centerpoints of the polygons\n",
    "stations_df = df_join.drop(['LON', 'LAT'], axis=1)\n",
    "stations_df"
   ]
  },
  {
   "cell_type": "code",
   "execution_count": 142,
   "id": "0b30cae3",
   "metadata": {},
   "outputs": [],
   "source": [
    "#Export of transformed stations data (NC ONLY)\n",
    "stations_df.to_csv('data/stations.csv', index=False)"
   ]
  },
  {
   "attachments": {},
   "cell_type": "markdown",
   "id": "000f9055",
   "metadata": {},
   "source": [
    "<h2>ETL#2: Creation of the SQLite database</h2>\n",
    "This code will be used to create our sqlite database. "
   ]
  },
  {
   "cell_type": "code",
   "execution_count": 143,
   "id": "3180077f",
   "metadata": {},
   "outputs": [],
   "source": [
    "# loading the dependencies\n",
    "import pandas as pd\n",
    "from pathlib import Path\n",
    "import sqlite3\n",
    "from datetime import datetime\n",
    "import matplotlib.pyplot as plt\n"
   ]
  },
  {
   "cell_type": "code",
   "execution_count": 144,
   "id": "d6fa867a",
   "metadata": {},
   "outputs": [],
   "source": [
    "Path('data/Analysis.db').touch()"
   ]
  },
  {
   "cell_type": "code",
   "execution_count": 145,
   "id": "159af3cc",
   "metadata": {},
   "outputs": [],
   "source": [
    "conn = sqlite3.connect('data/Analysis.db')\n",
    "c=conn.cursor()"
   ]
  },
  {
   "attachments": {},
   "cell_type": "markdown",
   "id": "7d1d4f7c",
   "metadata": {},
   "source": [
    "Credit to https://mungingdata.com/sqlite/create-database-load-csv-python/ for guidance on initial execute function and syntax."
   ]
  },
  {
   "cell_type": "code",
   "execution_count": 146,
   "id": "77cc51c9",
   "metadata": {},
   "outputs": [
    {
     "data": {
      "text/plain": [
       "<sqlite3.Cursor at 0x24800813140>"
      ]
     },
     "execution_count": 146,
     "metadata": {},
     "output_type": "execute_result"
    }
   ],
   "source": [
    "# Initial creation of the database tables for 'Analysis db'\n",
    "c.execute('''CREATE TABLE stations (\n",
    "    id varchar(100) NOT NULL PRIMARY KEY,\n",
    "    station_name varchar(100) NOT NULL,\n",
    "    longitude numeric(7,4) NOT NULL,\n",
    "    latitude numeric(7,4) NOT NULL,\n",
    "    STATE varchar(100) NOT NULL,\n",
    "    NAME varchar(100) NOT NULL,\n",
    "    FIPS numeric(2,0) NOT NULL\n",
    ")''')\n",
    "\n",
    "c.execute('''CREATE TABLE weather (\n",
    "    serialid int NOT NULL,\n",
    "    id varchar(100) NOT NULL,\n",
    "    date_str date NOT NULL,\n",
    "    degrees_from_mean numeric(5,2) NOT NULL,\n",
    "    max_temp numeric(4,1) NOT NULL,\n",
    "    min_temp numeric(4,1) NOT NULL,\n",
    "    type varchar(100) NOT NULL,\n",
    "    CONSTRAINT pk_weather PRIMARY KEY (serialid, id),\n",
    "    CONSTRAINT fk_weather_id FOREIGN KEY(id) REFERENCES stations(id)\n",
    ")''')\n"
   ]
  },
  {
   "cell_type": "code",
   "execution_count": 147,
   "id": "6d293036",
   "metadata": {},
   "outputs": [
    {
     "data": {
      "text/plain": [
       "76"
      ]
     },
     "execution_count": 147,
     "metadata": {},
     "output_type": "execute_result"
    }
   ],
   "source": [
    "#Creation of stations table to house the location and name of stations.\n",
    "stations = pd.read_csv('data/stations.csv')\n",
    "stations.to_sql('stations', conn, if_exists='replace', index = False)"
   ]
  },
  {
   "cell_type": "code",
   "execution_count": 148,
   "id": "f927de36",
   "metadata": {},
   "outputs": [
    {
     "data": {
      "text/plain": [
       "3196832"
      ]
     },
     "execution_count": 148,
     "metadata": {},
     "output_type": "execute_result"
    }
   ],
   "source": [
    "#Creation of weather table to house daily recorded weather activities.\n",
    "weather = pd.read_csv('data/weather.csv')\n",
    "weather.to_sql('weather', conn, if_exists='replace', index=False)"
   ]
  },
  {
   "cell_type": "code",
   "execution_count": 149,
   "id": "aaf9c168",
   "metadata": {},
   "outputs": [
    {
     "data": {
      "text/plain": [
       "<sqlite3.Cursor at 0x24800813140>"
      ]
     },
     "execution_count": 149,
     "metadata": {},
     "output_type": "execute_result"
    }
   ],
   "source": [
    "#JOIN function outside of pandas as required by deliverable 2\n",
    "c.execute('''CREATE TABLE data AS\n",
    "    SELECT w.serialid, w.id, w.date_str, w.degrees_from_mean, w.max_temp, w.min_temp, w.type, w.year, \n",
    "    s.station_name, s.longitude, s.latitude, s.STATE, s.NAME, s.FIPS \n",
    "    FROM weather w \n",
    "    INNER JOIN stations s \n",
    "    USING (id)''')"
   ]
  }
 ],
 "metadata": {
  "kernelspec": {
   "display_name": "PythonData",
   "language": "python",
   "name": "python3"
  },
  "language_info": {
   "codemirror_mode": {
    "name": "ipython",
    "version": 3
   },
   "file_extension": ".py",
   "mimetype": "text/x-python",
   "name": "python",
   "nbconvert_exporter": "python",
   "pygments_lexer": "ipython3",
   "version": "3.11.3"
  }
 },
 "nbformat": 4,
 "nbformat_minor": 5
}
