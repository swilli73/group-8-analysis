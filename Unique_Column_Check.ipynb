{
 "cells": [
  {
   "cell_type": "code",
   "execution_count": 11,
   "id": "a35d1b0c",
   "metadata": {},
   "outputs": [],
   "source": [
    "#Imports\n",
    "import pandas as pd"
   ]
  },
  {
   "cell_type": "code",
   "execution_count": 3,
   "id": "ce82eaea",
   "metadata": {},
   "outputs": [
    {
     "data": {
      "text/html": [
       "<div>\n",
       "<style scoped>\n",
       "    .dataframe tbody tr th:only-of-type {\n",
       "        vertical-align: middle;\n",
       "    }\n",
       "\n",
       "    .dataframe tbody tr th {\n",
       "        vertical-align: top;\n",
       "    }\n",
       "\n",
       "    .dataframe thead th {\n",
       "        text-align: right;\n",
       "    }\n",
       "</style>\n",
       "<table border=\"1\" class=\"dataframe\">\n",
       "  <thead>\n",
       "    <tr style=\"text-align: right;\">\n",
       "      <th></th>\n",
       "      <th>date_str</th>\n",
       "      <th>degrees_from_mean</th>\n",
       "      <th>id</th>\n",
       "      <th>longitude</th>\n",
       "      <th>latitude</th>\n",
       "      <th>max_temp</th>\n",
       "      <th>min_temp</th>\n",
       "      <th>station_name</th>\n",
       "      <th>type</th>\n",
       "      <th>serialid</th>\n",
       "    </tr>\n",
       "  </thead>\n",
       "  <tbody>\n",
       "    <tr>\n",
       "      <th>0</th>\n",
       "      <td>1977-02-19</td>\n",
       "      <td>8.61</td>\n",
       "      <td>USC00103882</td>\n",
       "      <td>-113.5472</td>\n",
       "      <td>43.7186</td>\n",
       "      <td>10.0</td>\n",
       "      <td>-12.8</td>\n",
       "      <td>GROUSE</td>\n",
       "      <td>Weak Hot</td>\n",
       "      <td>1</td>\n",
       "    </tr>\n",
       "    <tr>\n",
       "      <th>1</th>\n",
       "      <td>1977-02-19</td>\n",
       "      <td>10.74</td>\n",
       "      <td>USC00053951</td>\n",
       "      <td>-107.1097</td>\n",
       "      <td>37.7717</td>\n",
       "      <td>11.1</td>\n",
       "      <td>-8.9</td>\n",
       "      <td>HERMIT 7 ESE</td>\n",
       "      <td>Weak Hot</td>\n",
       "      <td>2</td>\n",
       "    </tr>\n",
       "    <tr>\n",
       "      <th>2</th>\n",
       "      <td>1977-02-19</td>\n",
       "      <td>20.46</td>\n",
       "      <td>USC00040379</td>\n",
       "      <td>-119.5128</td>\n",
       "      <td>37.0919</td>\n",
       "      <td>25.6</td>\n",
       "      <td>12.8</td>\n",
       "      <td>AUBERRY 2 NW</td>\n",
       "      <td>Strong Hot</td>\n",
       "      <td>3</td>\n",
       "    </tr>\n",
       "    <tr>\n",
       "      <th>3</th>\n",
       "      <td>1977-02-19</td>\n",
       "      <td>8.60</td>\n",
       "      <td>USC00020808</td>\n",
       "      <td>-109.7517</td>\n",
       "      <td>33.4783</td>\n",
       "      <td>20.0</td>\n",
       "      <td>-3.9</td>\n",
       "      <td>BLACK RIVER PUMPS</td>\n",
       "      <td>Weak Hot</td>\n",
       "      <td>4</td>\n",
       "    </tr>\n",
       "    <tr>\n",
       "      <th>4</th>\n",
       "      <td>1977-02-19</td>\n",
       "      <td>10.30</td>\n",
       "      <td>USC00042598</td>\n",
       "      <td>-115.4508</td>\n",
       "      <td>33.8089</td>\n",
       "      <td>30.6</td>\n",
       "      <td>13.9</td>\n",
       "      <td>EAGLE MTN</td>\n",
       "      <td>Weak Hot</td>\n",
       "      <td>5</td>\n",
       "    </tr>\n",
       "    <tr>\n",
       "      <th>...</th>\n",
       "      <td>...</td>\n",
       "      <td>...</td>\n",
       "      <td>...</td>\n",
       "      <td>...</td>\n",
       "      <td>...</td>\n",
       "      <td>...</td>\n",
       "      <td>...</td>\n",
       "      <td>...</td>\n",
       "      <td>...</td>\n",
       "      <td>...</td>\n",
       "    </tr>\n",
       "    <tr>\n",
       "      <th>3196827</th>\n",
       "      <td>1993-02-28</td>\n",
       "      <td>-14.38</td>\n",
       "      <td>USC00456768</td>\n",
       "      <td>-119.7581</td>\n",
       "      <td>46.2014</td>\n",
       "      <td>-6.1</td>\n",
       "      <td>-8.3</td>\n",
       "      <td>PROSSER</td>\n",
       "      <td>Weak Cold</td>\n",
       "      <td>3196828</td>\n",
       "    </tr>\n",
       "    <tr>\n",
       "      <th>3196828</th>\n",
       "      <td>1993-02-28</td>\n",
       "      <td>-8.63</td>\n",
       "      <td>USC00350897</td>\n",
       "      <td>-121.9519</td>\n",
       "      <td>45.6361</td>\n",
       "      <td>1.7</td>\n",
       "      <td>-6.7</td>\n",
       "      <td>BONNEVILLE DAM</td>\n",
       "      <td>Weak Cold</td>\n",
       "      <td>3196829</td>\n",
       "    </tr>\n",
       "    <tr>\n",
       "      <th>3196829</th>\n",
       "      <td>1993-02-28</td>\n",
       "      <td>-11.80</td>\n",
       "      <td>USC00358173</td>\n",
       "      <td>-120.7897</td>\n",
       "      <td>42.9592</td>\n",
       "      <td>0.0</td>\n",
       "      <td>-15.0</td>\n",
       "      <td>SUMMER LAKE 1 S</td>\n",
       "      <td>Weak Cold</td>\n",
       "      <td>3196830</td>\n",
       "    </tr>\n",
       "    <tr>\n",
       "      <th>3196830</th>\n",
       "      <td>1993-02-28</td>\n",
       "      <td>-3.41</td>\n",
       "      <td>RQC00663431</td>\n",
       "      <td>-66.6667</td>\n",
       "      <td>18.3361</td>\n",
       "      <td>27.2</td>\n",
       "      <td>13.9</td>\n",
       "      <td>DOS BOCAS</td>\n",
       "      <td>Weak Cold</td>\n",
       "      <td>3196831</td>\n",
       "    </tr>\n",
       "    <tr>\n",
       "      <th>3196831</th>\n",
       "      <td>1993-02-28</td>\n",
       "      <td>-17.50</td>\n",
       "      <td>USC00107040</td>\n",
       "      <td>-114.0667</td>\n",
       "      <td>43.3086</td>\n",
       "      <td>-4.4</td>\n",
       "      <td>-29.4</td>\n",
       "      <td>PICABO</td>\n",
       "      <td>Weak Cold</td>\n",
       "      <td>3196832</td>\n",
       "    </tr>\n",
       "  </tbody>\n",
       "</table>\n",
       "<p>3196832 rows × 10 columns</p>\n",
       "</div>"
      ],
      "text/plain": [
       "           date_str  degrees_from_mean           id  longitude  latitude  \\\n",
       "0        1977-02-19               8.61  USC00103882  -113.5472   43.7186   \n",
       "1        1977-02-19              10.74  USC00053951  -107.1097   37.7717   \n",
       "2        1977-02-19              20.46  USC00040379  -119.5128   37.0919   \n",
       "3        1977-02-19               8.60  USC00020808  -109.7517   33.4783   \n",
       "4        1977-02-19              10.30  USC00042598  -115.4508   33.8089   \n",
       "...             ...                ...          ...        ...       ...   \n",
       "3196827  1993-02-28             -14.38  USC00456768  -119.7581   46.2014   \n",
       "3196828  1993-02-28              -8.63  USC00350897  -121.9519   45.6361   \n",
       "3196829  1993-02-28             -11.80  USC00358173  -120.7897   42.9592   \n",
       "3196830  1993-02-28              -3.41  RQC00663431   -66.6667   18.3361   \n",
       "3196831  1993-02-28             -17.50  USC00107040  -114.0667   43.3086   \n",
       "\n",
       "         max_temp  min_temp       station_name        type  serialid  \n",
       "0            10.0     -12.8             GROUSE    Weak Hot         1  \n",
       "1            11.1      -8.9       HERMIT 7 ESE    Weak Hot         2  \n",
       "2            25.6      12.8       AUBERRY 2 NW  Strong Hot         3  \n",
       "3            20.0      -3.9  BLACK RIVER PUMPS    Weak Hot         4  \n",
       "4            30.6      13.9          EAGLE MTN    Weak Hot         5  \n",
       "...           ...       ...                ...         ...       ...  \n",
       "3196827      -6.1      -8.3            PROSSER   Weak Cold   3196828  \n",
       "3196828       1.7      -6.7     BONNEVILLE DAM   Weak Cold   3196829  \n",
       "3196829       0.0     -15.0    SUMMER LAKE 1 S   Weak Cold   3196830  \n",
       "3196830      27.2      13.9          DOS BOCAS   Weak Cold   3196831  \n",
       "3196831      -4.4     -29.4             PICABO   Weak Cold   3196832  \n",
       "\n",
       "[3196832 rows x 10 columns]"
      ]
     },
     "execution_count": 3,
     "metadata": {},
     "output_type": "execute_result"
    }
   ],
   "source": [
    "file_path = \"weather-anomalies-1964-2013.csv\"\n",
    "df = pd.read_csv(file_path)\n",
    "df"
   ]
  },
  {
   "cell_type": "code",
   "execution_count": 37,
   "id": "4097e744",
   "metadata": {},
   "outputs": [
    {
     "data": {
      "text/plain": [
       "3196832"
      ]
     },
     "execution_count": 37,
     "metadata": {},
     "output_type": "execute_result"
    }
   ],
   "source": [
    "df['serialid'].nunique()\n",
    "#3196832 rows in total in the dataframe, verifies that serialid is unique for each days weather record."
   ]
  },
  {
   "cell_type": "code",
   "execution_count": 38,
   "id": "bbfebeac",
   "metadata": {},
   "outputs": [
    {
     "data": {
      "text/plain": [
       "2716"
      ]
     },
     "execution_count": 38,
     "metadata": {},
     "output_type": "execute_result"
    }
   ],
   "source": [
    "df['id'].nunique()"
   ]
  },
  {
   "cell_type": "code",
   "execution_count": 19,
   "id": "13ab237b",
   "metadata": {},
   "outputs": [
    {
     "data": {
      "text/plain": [
       "2716"
      ]
     },
     "execution_count": 19,
     "metadata": {},
     "output_type": "execute_result"
    }
   ],
   "source": [
    "df_stations = df.drop_duplicates(['id', 'longitude', 'latitude', 'station_name'])\n",
    "id_check = df_stations.groupby('id').count()\n",
    "id_check = id_check['station_name'] > 1\n",
    "id_check.count()\n",
    "#id_check used to ensure no duplicates are in the id field, see df.unique step above to confirm the count is 2716."
   ]
  },
  {
   "cell_type": "code",
   "execution_count": null,
   "id": "77cda83d",
   "metadata": {},
   "outputs": [],
   "source": []
  }
 ],
 "metadata": {
  "kernelspec": {
   "display_name": "PythonData",
   "language": "python",
   "name": "python3"
  },
  "language_info": {
   "codemirror_mode": {
    "name": "ipython",
    "version": 3
   },
   "file_extension": ".py",
   "mimetype": "text/x-python",
   "name": "python",
   "nbconvert_exporter": "python",
   "pygments_lexer": "ipython3",
   "version": "3.10.8"
  }
 },
 "nbformat": 4,
 "nbformat_minor": 5
}
